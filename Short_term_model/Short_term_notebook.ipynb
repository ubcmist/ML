{
 "cells": [
  {
   "cell_type": "code",
   "execution_count": 1,
   "metadata": {},
   "outputs": [
    {
     "name": "stderr",
     "output_type": "stream",
     "text": [
      "Using TensorFlow backend.\n"
     ]
    }
   ],
   "source": [
    "'''\n",
    "This code is a framework to get biometric data, process data, create & train models.\n",
    "Inspired from work of https://www.kaggle.com/coni57/model-from-arxiv-1805-00794\n",
    "'''\n",
    "\n",
    "# This Python 3 environment comes with many helpful analytics libraries installed\n",
    "# It is defined by the kaggle/python docker image: https://github.com/kaggle/docker-python\n",
    "# For example, here's several helpful packages to load in\n",
    "import math\n",
    "import random\n",
    "import pickle\n",
    "import itertools\n",
    "import numpy as np # linear algebra\n",
    "import pandas as pd # data processing, CSV file I/O (e.g. pd.read_csv)\n",
    "from sklearn.metrics import accuracy_score, classification_report, confusion_matrix, label_ranking_average_precision_score, label_ranking_loss, coverage_error\n",
    "from sklearn.utils import shuffle\n",
    "from scipy.signal import resample\n",
    "import matplotlib.pyplot as plt\n",
    "import pickle\n",
    "from sklearn.preprocessing import OneHotEncoder\n",
    "from keras.models import Model\n",
    "from keras.layers import Input, Dense, Conv1D, MaxPooling1D, Softmax, Add, Flatten, Activation# , Dropout\n",
    "from keras import backend as K\n",
    "from keras.optimizers import Adam\n",
    "from keras.callbacks import LearningRateScheduler, ModelCheckpoint\n",
    "import os\n",
    "\n",
    "# to make model making reproducible for comparisons\n",
    "np.random.seed(42)"
   ]
  },
  {
   "cell_type": "code",
   "execution_count": 26,
   "metadata": {},
   "outputs": [],
   "source": [
    "#Data addresses and folders\n",
    "Fitbit_m_dir = \"Data/Raw/Heart/Heart_Rate_Data/Fitbit_m/\"\n",
    "Fitbit_h_dir = \"Data/Raw/Heart/Heart_Rate_Data/Fitbit_h/\"\n",
    "\n",
    "Selected_fitbit_dir = Fitbit_m_dir"
   ]
  },
  {
   "cell_type": "code",
   "execution_count": 27,
   "metadata": {},
   "outputs": [
    {
     "name": "stdout",
     "output_type": "stream",
     "text": [
      "['20181217_x.csv', '20181218_x.csv', '20181219_x.csv', '20181220_x.csv', '20181221_x.csv', '20181222_x.csv', '20181223_x.csv', '20181224_x.csv', '20181226_x.csv']\n",
      "['20181217_y.csv', '20181218_y.csv', '20181219_y.csv', '20181220_y.csv', '20181221_y.csv', '20181222_y.csv', '20181223_y.csv', '20181224_y.csv', '20181226_y.csv']\n"
     ]
    }
   ],
   "source": [
    "# region scanning the data folders to collect file addresses for input and output\n",
    "input_files_list = []\n",
    "output_files_list = []\n",
    "for root, dirs, files in os.walk(Selected_fitbit_dir):\n",
    "    for file in files:\n",
    "        if file.endswith(\"_x.csv\"):\n",
    "            input_files_list += [file]\n",
    "        elif file.endswith(\"_y.csv\"):\n",
    "            output_files_list += [file]\n",
    "if len(input_files_list) != len(output_files_list):\n",
    "    raise(\"we have ODD number of files in the folder. It should be EVEN to have both inputs and outputs.\")\n",
    "print(input_files_list)\n",
    "print(output_files_list)\n",
    "# endregion scanning the data folders to collect file addresses for input and output"
   ]
  },
  {
   "cell_type": "code",
   "execution_count": 29,
   "metadata": {},
   "outputs": [],
   "source": [
    "for i in range(len(input_files_list)):\n",
    "    # region reading data as dataframes.\n",
    "    input_file_address = os.path.join(Selected_fitbit_dir, input_files_list[2])\n",
    "    output_file_address = os.path.join(Selected_fitbit_dir, output_files_list[2])\n",
    "    if (input_file_address[:-6] != output_file_address[:-6]):\n",
    "        raise(\"Wrong pair of csv data files selected\")\n",
    "\n",
    "    df_x = pd.read_csv(input_file_address)\n",
    "    df_y = pd.read_csv(output_file_address)\n",
    "    # removing the empty rows (rows without Anxiety_Level label) and resetting the index of rows\n",
    "    df_y = df_y[df_y.Anxiety_Level.isnull() == False].reset_index(drop = True)\n",
    "    # endregion reading data as dataframes.\n",
    "    \n",
    "    # region Parsing Time\n",
    "    df_x['Time'] = pd.to_datetime(df_x.Time,format= '%H:%M:%S')\n",
    "    df_y['Time'] = pd.to_datetime(df_y.Time,format= '%H:%M')\n",
    "    # endregion Parsing Time\n",
    "    \n",
    "    \n",
    "\n",
    "#     for time_y in df_y.Time:\n",
    "#         df_x_before_time_y = df_x[df_x.Time < time_y]\n",
    "#         if len(df_x_before_time_y) == 0:\n",
    "#             continue"
   ]
  },
  {
   "cell_type": "code",
   "execution_count": 49,
   "metadata": {},
   "outputs": [
    {
     "name": "stdout",
     "output_type": "stream",
     "text": [
      "                 Time  Anxiety_Level\n",
      "0 1900-01-01 09:00:00              1\n",
      "1 1900-01-01 09:30:00              1\n",
      "2 1900-01-01 10:00:00              1\n",
      "3 1900-01-01 10:30:00              2\n",
      "4 1900-01-01 11:00:00              2\n",
      "<class 'pandas._libs.tslibs.timestamps.Timestamp'>\n",
      "<class 'pandas._libs.tslibs.timedeltas.Timedelta'>\n",
      "0 days 00:30:00\n",
      "0 days 00:15:00\n"
     ]
    }
   ],
   "source": [
    "# # region example of timedelta by subtracting Timestamp objects\n",
    "print(df_y.head())\n",
    "print(type(df_y.Time[0]))\n",
    "print(type(df_y.Time[3] - df_y.Time[2]))\n",
    "temp_delta = df_y.Time[3] - df_y.Time[2]\n",
    "print(temp_delta)\n",
    "print(temp_delta / 2)\n",
    "# endregion example code of timedelta by subtracting Timestamp objects"
   ]
  },
  {
   "cell_type": "code",
   "execution_count": 31,
   "metadata": {},
   "outputs": [],
   "source": [
    "def GetSampledData(df_x, time_y, sample_time_range, sampling_period, sampling_method = 'retrospective'):\n",
    "    if sampling_method == 'retrospective':\n",
    "        start_time = time_y - sample_time_range\n",
    "        end_time = time_y\n",
    "    elif sampling_method == 'uniform':\n",
    "        start_time = time_y - (sample_time_range / 2)\n",
    "        end_time = time_y + (sample_time_range / 2)\n",
    "    elif sampling_method == 'prospective':\n",
    "        start_time = time_y\n",
    "        end_time = time_y + sample_time_range\n",
    "    else:\n",
    "        raise (\"sampling_method not recognized\")\n",
    "    return df_x[(df_x.Time > start_time) & (df_x.Time < end_time)]"
   ]
  },
  {
   "cell_type": "code",
   "execution_count": 34,
   "metadata": {},
   "outputs": [
    {
     "name": "stdout",
     "output_type": "stream",
     "text": [
      "sampling_period is: 0 days 00:00:05\n",
      "sample_time_range is: 0 days 00:05:00\n",
      "sampling method is: retrospective. It can be [retrospective, uniform, prospective]\n"
     ]
    }
   ],
   "source": [
    "#region sampling hyper-parameters\n",
    "sampling_period = pd.to_timedelta(5, unit='s') #TODO not working yet\n",
    "print(\"sampling_period is: \" + str(sampling_period))\n",
    "sample_time_range = pd.to_timedelta(5, unit='m')\n",
    "print(\"sample_time_range is: \" + str(sample_time_range))\n",
    "sampling_method = 'retrospective' # can be ['retrospective', 'uniform', 'prospective']\n",
    "print(\"sampling method is: \" + sampling_method + \". It can be [retrospective, uniform, prospective]\")\n",
    "#endregion sampling hyper-parameters"
   ]
  },
  {
   "cell_type": "code",
   "execution_count": 36,
   "metadata": {},
   "outputs": [
    {
     "name": "stdout",
     "output_type": "stream",
     "text": [
      "Anxiety Level = 1\n"
     ]
    },
    {
     "data": {
      "text/plain": [
       "<matplotlib.axes._subplots.AxesSubplot at 0x27f8898e2e8>"
      ]
     },
     "execution_count": 36,
     "metadata": {},
     "output_type": "execute_result"
    },
    {
     "data": {
      "image/png": "[encoded data removed]",
      "text/plain": [
       "<Figure size 432x288 with 1 Axes>"
      ]
     },
     "metadata": {
      "needs_background": "light"
     },
     "output_type": "display_data"
    }
   ],
   "source": [
    "df_y_index = 1\n",
    "\n",
    "print(\"Anxiety Level = \" + str(df_y.Anxiety_Level[df_y_index]))\n",
    "\n",
    "df_x_sampled = GetSampledData(df_x, df_y.Time[df_y_index], sample_time_range, sampling_period, sampling_method)\n",
    "df_x_sampled.plot(x='Time',y='Heart Rate')"
   ]
  },
  {
   "cell_type": "code",
   "execution_count": 48,
   "metadata": {},
   "outputs": [
    {
     "name": "stderr",
     "output_type": "stream",
     "text": [
      "C:\\Users\\Hooman007\\AppData\\Local\\Continuum\\anaconda3\\envs\\py35\\lib\\site-packages\\scipy\\signal\\signaltools.py:2223: FutureWarning: Using a non-tuple sequence for multidimensional indexing is deprecated; use `arr[tuple(seq)]` instead of `arr[seq]`. In the future this will be interpreted as an array index, `arr[np.array(seq)]`, which will result either in an error or a different result.\n",
      "  Y[sl] = X[sl]\n",
      "C:\\Users\\Hooman007\\AppData\\Local\\Continuum\\anaconda3\\envs\\py35\\lib\\site-packages\\scipy\\signal\\signaltools.py:2225: FutureWarning: Using a non-tuple sequence for multidimensional indexing is deprecated; use `arr[tuple(seq)]` instead of `arr[seq]`. In the future this will be interpreted as an array index, `arr[np.array(seq)]`, which will result either in an error or a different result.\n",
      "  Y[sl] = X[sl]\n",
      "C:\\Users\\Hooman007\\AppData\\Local\\Continuum\\anaconda3\\envs\\py35\\lib\\site-packages\\scipy\\signal\\signaltools.py:2230: FutureWarning: Using a non-tuple sequence for multidimensional indexing is deprecated; use `arr[tuple(seq)]` instead of `arr[seq]`. In the future this will be interpreted as an array index, `arr[np.array(seq)]`, which will result either in an error or a different result.\n",
      "  Y[sl] += X[sl]  # add the component of X at N/2\n"
     ]
    },
    {
     "ename": "TypeError",
     "evalue": "ufunc add cannot use operands with types dtype('<m8[ns]') and dtype('O')",
     "output_type": "error",
     "traceback": [
      "\u001b[0;31m---------------------------------------------------------------------------\u001b[0m",
      "\u001b[0;31mTypeError\u001b[0m                                 Traceback (most recent call last)",
      "\u001b[0;32m<ipython-input-48-29002976050f>\u001b[0m in \u001b[0;36m<module>\u001b[0;34m()\u001b[0m\n\u001b[1;32m      1\u001b[0m \u001b[0;32mimport\u001b[0m \u001b[0mscipy\u001b[0m\u001b[0;34m.\u001b[0m\u001b[0msignal\u001b[0m\u001b[0;34m\u001b[0m\u001b[0m\n\u001b[1;32m      2\u001b[0m \u001b[0;34m\u001b[0m\u001b[0m\n\u001b[0;32m----> 3\u001b[0;31m \u001b[0mresampled_df_x\u001b[0m\u001b[0;34m,\u001b[0m \u001b[0mnew_t\u001b[0m \u001b[0;34m=\u001b[0m \u001b[0mscipy\u001b[0m\u001b[0;34m.\u001b[0m\u001b[0msignal\u001b[0m\u001b[0;34m.\u001b[0m\u001b[0mresample\u001b[0m\u001b[0;34m(\u001b[0m\u001b[0mlist\u001b[0m\u001b[0;34m(\u001b[0m\u001b[0mdf_x_sampled\u001b[0m\u001b[0;34m[\u001b[0m\u001b[0;34m'Heart Rate'\u001b[0m\u001b[0;34m]\u001b[0m\u001b[0;34m)\u001b[0m\u001b[0;34m,\u001b[0m\u001b[0;36m20\u001b[0m\u001b[0;34m,\u001b[0m\u001b[0mlist\u001b[0m\u001b[0;34m(\u001b[0m\u001b[0mdf_x_sampled\u001b[0m\u001b[0;34m.\u001b[0m\u001b[0mTime\u001b[0m\u001b[0;34m)\u001b[0m\u001b[0;34m)\u001b[0m\u001b[0;34m\u001b[0m\u001b[0m\n\u001b[0m",
      "\u001b[0;32mC:\\Users\\Hooman007\\AppData\\Local\\Continuum\\anaconda3\\envs\\py35\\lib\\site-packages\\scipy\\signal\\signaltools.py\u001b[0m in \u001b[0;36mresample\u001b[0;34m(x, num, t, axis, window)\u001b[0m\n\u001b[1;32m   2244\u001b[0m         \u001b[0;32mreturn\u001b[0m \u001b[0my\u001b[0m\u001b[0;34m\u001b[0m\u001b[0m\n\u001b[1;32m   2245\u001b[0m     \u001b[0;32melse\u001b[0m\u001b[0;34m:\u001b[0m\u001b[0;34m\u001b[0m\u001b[0m\n\u001b[0;32m-> 2246\u001b[0;31m         \u001b[0mnew_t\u001b[0m \u001b[0;34m=\u001b[0m \u001b[0marange\u001b[0m\u001b[0;34m(\u001b[0m\u001b[0;36m0\u001b[0m\u001b[0;34m,\u001b[0m \u001b[0mnum\u001b[0m\u001b[0;34m)\u001b[0m \u001b[0;34m*\u001b[0m \u001b[0;34m(\u001b[0m\u001b[0mt\u001b[0m\u001b[0;34m[\u001b[0m\u001b[0;36m1\u001b[0m\u001b[0;34m]\u001b[0m \u001b[0;34m-\u001b[0m \u001b[0mt\u001b[0m\u001b[0;34m[\u001b[0m\u001b[0;36m0\u001b[0m\u001b[0;34m]\u001b[0m\u001b[0;34m)\u001b[0m \u001b[0;34m*\u001b[0m \u001b[0mNx\u001b[0m \u001b[0;34m/\u001b[0m \u001b[0mfloat\u001b[0m\u001b[0;34m(\u001b[0m\u001b[0mnum\u001b[0m\u001b[0;34m)\u001b[0m \u001b[0;34m+\u001b[0m \u001b[0mt\u001b[0m\u001b[0;34m[\u001b[0m\u001b[0;36m0\u001b[0m\u001b[0;34m]\u001b[0m\u001b[0;34m\u001b[0m\u001b[0m\n\u001b[0m\u001b[1;32m   2247\u001b[0m         \u001b[0;32mreturn\u001b[0m \u001b[0my\u001b[0m\u001b[0;34m,\u001b[0m \u001b[0mnew_t\u001b[0m\u001b[0;34m\u001b[0m\u001b[0m\n\u001b[1;32m   2248\u001b[0m \u001b[0;34m\u001b[0m\u001b[0m\n",
      "\u001b[0;31mTypeError\u001b[0m: ufunc add cannot use operands with types dtype('<m8[ns]') and dtype('O')"
     ]
    }
   ],
   "source": [
    "import scipy.signal\n",
    "\n",
    "resampled_df_x, new_t = scipy.signal.resample(list(df_x_sampled['Heart Rate']),20,list(df_x_sampled.Time))"
   ]
  },
  {
   "cell_type": "code",
   "execution_count": 56,
   "metadata": {},
   "outputs": [
    {
     "data": {
      "text/plain": [
       "Timestamp('1900-01-01 09:25:16')"
      ]
     },
     "execution_count": 56,
     "metadata": {},
     "output_type": "execute_result"
    }
   ],
   "source": [
    "timestamp=list(df_x_sampled.Time)\n",
    "timestamp[1]\n"
   ]
  },
  {
   "cell_type": "code",
   "execution_count": 9,
   "metadata": {},
   "outputs": [
    {
     "data": {
      "text/plain": [
       "<matplotlib.axes._subplots.AxesSubplot at 0x1f652060400>"
      ]
     },
     "execution_count": 9,
     "metadata": {},
     "output_type": "execute_result"
    },
    {
     "data": {
      "image/png": "[encoded data removed]",
      "text/plain": [
       "<Figure size 432x288 with 1 Axes>"
      ]
     },
     "metadata": {
      "needs_background": "light"
     },
     "output_type": "display_data"
    }
   ],
   "source": [
    "df_x.plot(x='Time', y='Heart Rate')"
   ]
  },
  {
   "cell_type": "code",
   "execution_count": 39,
   "metadata": {},
   "outputs": [
    {
     "data": {
      "text/html": [
       "<div>\n",
       "<style scoped>\n",
       "    .dataframe tbody tr th:only-of-type {\n",
       "        vertical-align: middle;\n",
       "    }\n",
       "\n",
       "    .dataframe tbody tr th {\n",
       "        vertical-align: top;\n",
       "    }\n",
       "\n",
       "    .dataframe thead th {\n",
       "        text-align: right;\n",
       "    }\n",
       "</style>\n",
       "<table border=\"1\" class=\"dataframe\">\n",
       "  <thead>\n",
       "    <tr style=\"text-align: right;\">\n",
       "      <th></th>\n",
       "      <th>Time</th>\n",
       "      <th>Heart Rate</th>\n",
       "    </tr>\n",
       "  </thead>\n",
       "  <tbody>\n",
       "    <tr>\n",
       "      <th>112</th>\n",
       "      <td>1900-01-01 09:29:54</td>\n",
       "      <td>77</td>\n",
       "    </tr>\n",
       "  </tbody>\n",
       "</table>\n",
       "</div>"
      ],
      "text/plain": [
       "                   Time  Heart Rate\n",
       "112 1900-01-01 09:29:54          77"
      ]
     },
     "execution_count": 39,
     "metadata": {},
     "output_type": "execute_result"
    }
   ],
   "source": [
    "extracted_df_index = 1 \n",
    "start_delta_time = df_y.Time[df_y_index] - sampling_period*(extracted_df_index+1)\n",
    "end_delta_time = df_y.Time[df_y_index] - sampling_period*extracted_df_index\n",
    "\n",
    "df_x_sampled.loc[(df_x_sampled.Time > start_delta_time) & (df_x_sampled.Time < end_delta_time)]\n"
   ]
  },
  {
   "cell_type": "code",
   "execution_count": 108,
   "metadata": {},
   "outputs": [
    {
     "data": {
      "text/html": [
       "<div>\n",
       "<style scoped>\n",
       "    .dataframe tbody tr th:only-of-type {\n",
       "        vertical-align: middle;\n",
       "    }\n",
       "\n",
       "    .dataframe tbody tr th {\n",
       "        vertical-align: top;\n",
       "    }\n",
       "\n",
       "    .dataframe thead th {\n",
       "        text-align: right;\n",
       "    }\n",
       "</style>\n",
       "<table border=\"1\" class=\"dataframe\">\n",
       "  <thead>\n",
       "    <tr style=\"text-align: right;\">\n",
       "      <th></th>\n",
       "      <th>Time</th>\n",
       "      <th>Heart Rate</th>\n",
       "    </tr>\n",
       "  </thead>\n",
       "  <tbody>\n",
       "    <tr>\n",
       "      <th>2141</th>\n",
       "      <td>1900-01-01 13:29:09</td>\n",
       "      <td>69</td>\n",
       "    </tr>\n",
       "    <tr>\n",
       "      <th>2142</th>\n",
       "      <td>1900-01-01 13:29:14</td>\n",
       "      <td>66</td>\n",
       "    </tr>\n",
       "    <tr>\n",
       "      <th>2145</th>\n",
       "      <td>1900-01-01 13:29:34</td>\n",
       "      <td>73</td>\n",
       "    </tr>\n",
       "    <tr>\n",
       "      <th>2147</th>\n",
       "      <td>1900-01-01 13:29:44</td>\n",
       "      <td>77</td>\n",
       "    </tr>\n",
       "  </tbody>\n",
       "</table>\n",
       "</div>"
      ],
      "text/plain": [
       "                    Time  Heart Rate\n",
       "2141 1900-01-01 13:29:09          69\n",
       "2142 1900-01-01 13:29:14          66\n",
       "2145 1900-01-01 13:29:34          73\n",
       "2147 1900-01-01 13:29:44          77"
      ]
     },
     "execution_count": 108,
     "metadata": {},
     "output_type": "execute_result"
    }
   ],
   "source": [
    "df_x_sampled.iloc[[1,2,5,7]]"
   ]
  },
  {
   "cell_type": "code",
   "execution_count": null,
   "metadata": {},
   "outputs": [],
   "source": []
  }
 ],
 "metadata": {
  "kernelspec": {
   "display_name": "Python 3",
   "language": "python",
   "name": "python3"
  },
  "language_info": {
   "codemirror_mode": {
    "name": "ipython",
    "version": 3
   },
   "file_extension": ".py",
   "mimetype": "text/x-python",
   "name": "python",
   "nbconvert_exporter": "python",
   "pygments_lexer": "ipython3",
   "version": "3.5.6"
  }
 },
 "nbformat": 4,
 "nbformat_minor": 2
}
