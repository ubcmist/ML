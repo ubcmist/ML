{
 "cells": [
  {
   "cell_type": "code",
   "execution_count": 1,
   "metadata": {},
   "outputs": [
    {
     "name": "stderr",
     "output_type": "stream",
     "text": [
      "Using TensorFlow backend.\n"
     ]
    }
   ],
   "source": [
    "'''\n",
    "This code is a framework to get biometric data, process data, create & train models.\n",
    "Inspired from work of https://www.kaggle.com/coni57/model-from-arxiv-1805-00794\n",
    "'''\n",
    "\n",
    "# This Python 3 environment comes with many helpful analytics libraries installed\n",
    "# It is defined by the kaggle/python docker image: https://github.com/kaggle/docker-python\n",
    "# For example, here's several helpful packages to load in\n",
    "import math\n",
    "import random\n",
    "import pickle\n",
    "import itertools\n",
    "import numpy as np # linear algebra\n",
    "import pandas as pd # data processing, CSV file I/O (e.g. pd.read_csv)\n",
    "from sklearn.metrics import accuracy_score, classification_report, confusion_matrix, label_ranking_average_precision_score, label_ranking_loss, coverage_error\n",
    "from sklearn.utils import shuffle\n",
    "from scipy.signal import resample\n",
    "import matplotlib.pyplot as plt\n",
    "import pickle\n",
    "from sklearn.preprocessing import OneHotEncoder\n",
    "from keras.models import Model\n",
    "from keras.layers import Input, Dense, Conv1D, MaxPooling1D, Softmax, Add, Flatten, Activation# , Dropout\n",
    "from keras import backend as K\n",
    "from keras.optimizers import Adam\n",
    "from keras.callbacks import LearningRateScheduler, ModelCheckpoint\n",
    "import os\n",
    "\n",
    "# to make model making reproducible for comparisons\n",
    "np.random.seed(42)"
   ]
  },
  {
   "cell_type": "code",
   "execution_count": 2,
   "metadata": {},
   "outputs": [],
   "source": [
    "#Data addresses and folders\n",
    "Fitbit_m_dir = \"Data/Raw/Heart/Heart_Rate_Data/Fitbit_m/\"\n",
    "Fitbit_h_dir = \"Data/Raw/Heart/Heart_Rate_Data/Fitbit_h/\"\n",
    "\n",
    "Selected_fitbit_dir = Fitbit_m_dir"
   ]
  },
  {
   "cell_type": "code",
   "execution_count": 3,
   "metadata": {},
   "outputs": [
    {
     "name": "stdout",
     "output_type": "stream",
     "text": [
      "['20181217_x.csv', '20181218_x.csv', '20181219_x.csv', '20181220_x.csv', '20181221_x.csv', '20181222_x.csv', '20181223_x.csv', '20181224_x.csv', '20181226_x.csv']\n",
      "['20181217_y.csv', '20181218_y.csv', '20181219_y.csv', '20181220_y.csv', '20181221_y.csv', '20181222_y.csv', '20181223_y.csv', '20181224_y.csv', '20181226_y.csv']\n"
     ]
    }
   ],
   "source": [
    "# region scanning the data folders to collect file addresses for input and output\n",
    "input_files_list = []\n",
    "output_files_list = []\n",
    "for root, dirs, files in os.walk(Selected_fitbit_dir):\n",
    "    for file in files:\n",
    "        if file.endswith(\"_x.csv\"):\n",
    "            input_files_list += [file]\n",
    "        elif file.endswith(\"_y.csv\"):\n",
    "            output_files_list += [file]\n",
    "if len(input_files_list) != len(output_files_list):\n",
    "    raise(\"we have ODD number of files in the folder. It should be EVEN to have both inputs and outputs.\")\n",
    "print(input_files_list)\n",
    "print(output_files_list)\n",
    "# endregion scanning the data folders to collect file addresses for input and output"
   ]
  },
  {
   "cell_type": "code",
   "execution_count": 45,
   "metadata": {},
   "outputs": [],
   "source": [
    "for i in range(len(input_files_list)):\n",
    "    # region reading data as dataframes.\n",
    "    input_file_address = os.path.join(Selected_fitbit_dir, input_files_list[0])\n",
    "    output_file_address = os.path.join(Selected_fitbit_dir, output_files_list[0])\n",
    "    if (input_file_address[:-6] != output_file_address[:-6]):\n",
    "        raise(\"Wrong pair of csv data files selected\")\n",
    "\n",
    "    df_x = pd.read_csv(input_file_address)\n",
    "    df_y = pd.read_csv(output_file_address)\n",
    "    df_y = df_y[df_y.Anxiety_Level.isnull() == False] #removing the empty rows (rows without Anxiety_Level label)\n",
    "    # endregion reading data as dataframes.\n",
    "    \n",
    "    # region Parsing Time\n",
    "    df_x['Time'] = pd.to_datetime(df_x.Time,format= '%H:%M:%S')\n",
    "    df_y['Time'] = pd.to_datetime(df_y.Time,format= '%H:%M')\n",
    "    # endregion Parsing Time\n",
    "    \n",
    "    \n",
    "\n",
    "#     for time_y in df_y.Time:\n",
    "#         df_x_before_time_y = df_x[df_x.Time < time_y]\n",
    "#         if len(df_x_before_time_y) == 0:\n",
    "#             continue"
   ]
  },
  {
   "cell_type": "code",
   "execution_count": 46,
   "metadata": {},
   "outputs": [
    {
     "name": "stdout",
     "output_type": "stream",
     "text": [
      "                 Time  Anxiety_Level\n",
      "0 1900-01-01 09:00:00              2\n",
      "1 1900-01-01 09:30:00              1\n",
      "2 1900-01-01 10:00:00              3\n",
      "3 1900-01-01 10:30:00              3\n",
      "4 1900-01-01 11:00:00              1\n",
      "<class 'pandas._libs.tslibs.timestamps.Timestamp'>\n",
      "<class 'pandas._libs.tslibs.timedeltas.Timedelta'>\n",
      "0 days 00:30:00\n",
      "0 days 00:15:00\n"
     ]
    }
   ],
   "source": [
    "# region example of timedelta by subtracting Timestamp objects\n",
    "print(df_y.head())\n",
    "print(type(df_y.Time[0]))\n",
    "print(type(df_y.Time[3] - df_y.Time[2]))\n",
    "temp_delta = df_y.Time[3] - df_y.Time[2]\n",
    "print(temp_delta)\n",
    "print(temp_delta / 2)\n",
    "# endregion example code of timedelta by subtracting Timestamp objects"
   ]
  },
  {
   "cell_type": "code",
   "execution_count": 47,
   "metadata": {},
   "outputs": [],
   "source": [
    "def GetSampledData(df_x, time_y, sample_time_range, sampling_period, sampling_method = 'retrospective'):\n",
    "    if sampling_method == 'retrospective':\n",
    "        start_time = time_y - sample_time_range\n",
    "        end_time = time_y\n",
    "    elif sampling_method == 'uniform':\n",
    "        start_time = time_y - (sample_time_range / 2)\n",
    "        end_time = time_y + (sample_time_range / 2)\n",
    "    elif sampling_method == 'prospective':\n",
    "        start_time = time_y\n",
    "        end_time = time_y + sample_time_range\n",
    "    else:\n",
    "        raise (\"sampling_method not recognized\")\n",
    "    return df_x[(df_x.Time > start_time) & (df_x.Time < end_time)]"
   ]
  },
  {
   "cell_type": "code",
   "execution_count": 48,
   "metadata": {},
   "outputs": [
    {
     "name": "stdout",
     "output_type": "stream",
     "text": [
      "sampling_period is: 0 days 00:00:05\n",
      "sample_time_range is: 0 days 00:02:00\n",
      "sampling method is: uniform. It can be [retrospective, uniform, prospective]\n"
     ]
    }
   ],
   "source": [
    "#region sampling hyper-parameters\n",
    "sampling_period = pd.to_timedelta(5, unit='s') #TODO not working yet\n",
    "print(\"sampling_period is: \" + str(sampling_period))\n",
    "sample_time_range = pd.to_timedelta(1, unit='m')\n",
    "print(\"sample_time_range is: \" + str(sample_time_range))\n",
    "sampling_method = 'uniform' # can be ['retrospective', 'uniform', 'prospective']\n",
    "print(\"sampling method is: \" + sampling_method + \". It can be [retrospective, uniform, prospective]\")\n",
    "#endregion sampling hyper-parameters"
   ]
  },
  {
   "cell_type": "code",
   "execution_count": 65,
   "metadata": {},
   "outputs": [
    {
     "name": "stdout",
     "output_type": "stream",
     "text": [
      "Anxiety Level = 2\n"
     ]
    },
    {
     "data": {
      "text/plain": [
       "<matplotlib.axes._subplots.AxesSubplot at 0x15acea14d68>"
      ]
     },
     "execution_count": 65,
     "metadata": {},
     "output_type": "execute_result"
    },
    {
     "data": {
      "image/png": "[encoded data removed]",
      "text/plain": [
       "<Figure size 432x288 with 1 Axes>"
      ]
     },
     "metadata": {
      "needs_background": "light"
     },
     "output_type": "display_data"
    }
   ],
   "source": [
    "df_y_index = 15\n",
    "sampling_method = 'retrospective'\n",
    "sample_time_range = pd.to_timedelta(1, unit='m')\n",
    "\n",
    "print(\"Anxiety Level = \" + str(df_y.Anxiety_Level[df_y_index]))\n",
    "\n",
    "df_x_sampled = GetSampledData(df_x, df_y.Time[df_y_index], sample_time_range, sampling_period, sampling_method)\n",
    "df_x_sampled.plot(x='Time',y='Heart Rate')"
   ]
  },
  {
   "cell_type": "code",
   "execution_count": 67,
   "metadata": {},
   "outputs": [
    {
     "data": {
      "text/plain": [
       "41"
      ]
     },
     "execution_count": 67,
     "metadata": {},
     "output_type": "execute_result"
    }
   ],
   "source": [
    "len(df_x_sampled)"
   ]
  }
 ],
 "metadata": {
  "kernelspec": {
   "display_name": "Python 3",
   "language": "python",
   "name": "python3"
  },
  "language_info": {
   "codemirror_mode": {
    "name": "ipython",
    "version": 3
   },
   "file_extension": ".py",
   "mimetype": "text/x-python",
   "name": "python",
   "nbconvert_exporter": "python",
   "pygments_lexer": "ipython3",
   "version": "3.5.6"
  }
 },
 "nbformat": 4,
 "nbformat_minor": 2
}
